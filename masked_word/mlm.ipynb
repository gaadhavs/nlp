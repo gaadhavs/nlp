{
 "cells": [
  {
   "cell_type": "code",
   "execution_count": 8,
   "metadata": {},
   "outputs": [],
   "source": [
    "import torch\n",
    "from transformers import BertTokenizer, BertForMaskedLM"
   ]
  },
  {
   "cell_type": "code",
   "execution_count": 9,
   "metadata": {},
   "outputs": [
    {
     "name": "stderr",
     "output_type": "stream",
     "text": [
      "Some weights of the model checkpoint at bert-base-uncased were not used when initializing BertForMaskedLM: ['cls.seq_relationship.bias', 'cls.seq_relationship.weight']\n",
      "- This IS expected if you are initializing BertForMaskedLM from the checkpoint of a model trained on another task or with another architecture (e.g. initializing a BertForSequenceClassification model from a BertForPreTraining model).\n",
      "- This IS NOT expected if you are initializing BertForMaskedLM from the checkpoint of a model that you expect to be exactly identical (initializing a BertForSequenceClassification model from a BertForSequenceClassification model).\n"
     ]
    }
   ],
   "source": [
    "# Load pre-trained BERT model and tokenizer\n",
    "model = BertForMaskedLM.from_pretrained('bert-base-uncased')\n",
    "tokenizer = BertTokenizer.from_pretrained('bert-base-uncased')"
   ]
  },
  {
   "cell_type": "code",
   "execution_count": 23,
   "metadata": {},
   "outputs": [],
   "source": [
    "# Tokenize input text\n",
    "text = \"Three years later, the coffin was [MASK] full of Jello.\"\n",
    "tokenized_text = tokenizer.tokenize(text)"
   ]
  },
  {
   "cell_type": "code",
   "execution_count": 24,
   "metadata": {},
   "outputs": [],
   "source": [
    "# Convert tokenized text to input tensor\n",
    "indexed_tokens = tokenizer.convert_tokens_to_ids(tokenized_text)\n",
    "tokens_tensor = torch.tensor([indexed_tokens])"
   ]
  },
  {
   "cell_type": "code",
   "execution_count": 25,
   "metadata": {},
   "outputs": [
    {
     "name": "stdout",
     "output_type": "stream",
     "text": [
      "Masked index: 7\n"
     ]
    }
   ],
   "source": [
    "# Find the masked token\n",
    "masked_index = tokenized_text.index('[MASK]')\n",
    "print('Masked index:', masked_index)"
   ]
  },
  {
   "cell_type": "code",
   "execution_count": 31,
   "metadata": {},
   "outputs": [],
   "source": [
    "# Predict the masked token using the pre-trained model\n",
    "model.eval()\n",
    "with torch.no_grad():\n",
    "    outputs = model(tokens_tensor)\n",
    "    predictions = outputs[0][0, masked_index].topk(10)"
   ]
  },
  {
   "cell_type": "code",
   "execution_count": 32,
   "metadata": {},
   "outputs": [
    {
     "name": "stdout",
     "output_type": "stream",
     "text": [
      "Token: \", Probability: 7.537574291229248\n",
      "Token: also, Probability: 6.186984062194824\n",
      "Token: still, Probability: 5.680833339691162\n",
      "Token: made, Probability: 5.503735065460205\n",
      "Token: actually, Probability: 5.488828659057617\n",
      "Token: not, Probability: 5.45798921585083\n",
      "Token: even, Probability: 5.002530097961426\n",
      "Token: so, Probability: 4.9967217445373535\n",
      "Token: completely, Probability: 4.941343784332275\n",
      "Token: now, Probability: 4.924426078796387\n"
     ]
    }
   ],
   "source": [
    "# Print top 5 predicted tokens and their probabilities\n",
    "predicted_tokens = [tokenizer.convert_ids_to_tokens([i.item()])[0] for i in predictions.indices]\n",
    "probabilities = predictions.values.tolist()\n",
    "for i in range(len(predicted_tokens)):\n",
    "    print(f'Token: {predicted_tokens[i]}, Probability: {probabilities[i]}')"
   ]
  },
  {
   "cell_type": "code",
   "execution_count": 33,
   "metadata": {},
   "outputs": [
    {
     "name": "stdout",
     "output_type": "stream",
     "text": [
      "\"\n",
      "also\n",
      "still\n",
      "made\n",
      "actually\n",
      "not\n",
      "even\n",
      "so\n",
      "completely\n",
      "now\n"
     ]
    }
   ],
   "source": [
    "for i in range(len(predicted_tokens)):\n",
    "    print(predicted_tokens[i])"
   ]
  }
 ],
 "metadata": {
  "kernelspec": {
   "display_name": ".env",
   "language": "python",
   "name": "python3"
  },
  "language_info": {
   "codemirror_mode": {
    "name": "ipython",
    "version": 3
   },
   "file_extension": ".py",
   "mimetype": "text/x-python",
   "name": "python",
   "nbconvert_exporter": "python",
   "pygments_lexer": "ipython3",
   "version": "3.11.3"
  },
  "orig_nbformat": 4
 },
 "nbformat": 4,
 "nbformat_minor": 2
}
